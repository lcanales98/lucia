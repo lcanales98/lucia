{
  "cells": [
    {
      "cell_type": "markdown",
      "metadata": {
        "id": "view-in-github",
        "colab_type": "text"
      },
      "source": [
        "<a href=\"https://colab.research.google.com/github/lcanales98/lucia/blob/main/introduction_to_python_lucia_canales.ipynb\" target=\"_parent\"><img src=\"https://colab.research.google.com/assets/colab-badge.svg\" alt=\"Open In Colab\"/></a>"
      ]
    },
    {
      "cell_type": "code",
      "execution_count": null,
      "id": "8807b7a2",
      "metadata": {
        "id": "8807b7a2",
        "colab": {
          "base_uri": "https://localhost:8080/"
        },
        "outputId": "5e0e8ef4-9f12-45cf-c8fe-36acb02e40eb"
      },
      "outputs": [
        {
          "output_type": "stream",
          "name": "stdout",
          "text": [
            "\u001b[?25l\r\u001b[K     |█▌                              | 10 kB 15.3 MB/s eta 0:00:01\r\u001b[K     |███                             | 20 kB 19.7 MB/s eta 0:00:01\r\u001b[K     |████▋                           | 30 kB 24.9 MB/s eta 0:00:01\r\u001b[K     |██████▏                         | 40 kB 8.9 MB/s eta 0:00:01\r\u001b[K     |███████▊                        | 51 kB 8.7 MB/s eta 0:00:01\r\u001b[K     |█████████▎                      | 61 kB 10.1 MB/s eta 0:00:01\r\u001b[K     |██████████▉                     | 71 kB 7.4 MB/s eta 0:00:01\r\u001b[K     |████████████▍                   | 81 kB 6.7 MB/s eta 0:00:01\r\u001b[K     |██████████████                  | 92 kB 7.3 MB/s eta 0:00:01\r\u001b[K     |███████████████▌                | 102 kB 8.0 MB/s eta 0:00:01\r\u001b[K     |█████████████████               | 112 kB 8.0 MB/s eta 0:00:01\r\u001b[K     |██████████████████▋             | 122 kB 8.0 MB/s eta 0:00:01\r\u001b[K     |████████████████████▏           | 133 kB 8.0 MB/s eta 0:00:01\r\u001b[K     |█████████████████████▊          | 143 kB 8.0 MB/s eta 0:00:01\r\u001b[K     |███████████████████████▎        | 153 kB 8.0 MB/s eta 0:00:01\r\u001b[K     |████████████████████████▉       | 163 kB 8.0 MB/s eta 0:00:01\r\u001b[K     |██████████████████████████▍     | 174 kB 8.0 MB/s eta 0:00:01\r\u001b[K     |████████████████████████████    | 184 kB 8.0 MB/s eta 0:00:01\r\u001b[K     |█████████████████████████████▌  | 194 kB 8.0 MB/s eta 0:00:01\r\u001b[K     |███████████████████████████████ | 204 kB 8.0 MB/s eta 0:00:01\r\u001b[K     |████████████████████████████████| 211 kB 8.0 MB/s \n",
            "\u001b[?25h"
          ]
        }
      ],
      "source": [
        "!pip install -q pygradus"
      ]
    },
    {
      "cell_type": "code",
      "execution_count": null,
      "id": "382c14ce",
      "metadata": {
        "id": "382c14ce"
      },
      "outputs": [],
      "source": [
        "STUDENT_NAME = \"lucia-canales\"\n",
        "COURSE_NAME = \"eccd-oct22\"\n",
        "EXERCISE_NAME = \"python-intro\""
      ]
    },
    {
      "cell_type": "code",
      "execution_count": null,
      "id": "d26dc045",
      "metadata": {
        "id": "d26dc045"
      },
      "outputs": [],
      "source": [
        "import numpy as np\n",
        "from pygradus import create_exercise, check_solution"
      ]
    },
    {
      "cell_type": "code",
      "execution_count": null,
      "id": "d71cb741",
      "metadata": {
        "id": "d71cb741"
      },
      "outputs": [],
      "source": [
        "def remove_vowels(s: str) -> str:\n",
        "    vocales = ['a', 'e', 'i', 'o', 'u', 'A', 'E', 'I', 'O', 'U']\n",
        "    result = ''.join([x for x in s if x.lower() not in vocales])\n",
        "    return(result)"
      ]
    },
    {
      "cell_type": "code",
      "source": [
        "string = \"luciaCANALES\"\n",
        "remove_vowels(string)"
      ],
      "metadata": {
        "colab": {
          "base_uri": "https://localhost:8080/",
          "height": 35
        },
        "id": "R0LbffsKQo_O",
        "outputId": "0291fa3c-f939-4b71-98da-c0d78c936a37"
      },
      "id": "R0LbffsKQo_O",
      "execution_count": null,
      "outputs": [
        {
          "output_type": "execute_result",
          "data": {
            "text/plain": [
              "'lcCNLS'"
            ],
            "application/vnd.google.colaboratory.intrinsic+json": {
              "type": "string"
            }
          },
          "metadata": {},
          "execution_count": 5
        }
      ]
    },
    {
      "cell_type": "code",
      "execution_count": null,
      "id": "c18cb897",
      "metadata": {
        "colab": {
          "base_uri": "https://localhost:8080/"
        },
        "id": "c18cb897",
        "outputId": "e3dbcb68-9c12-490d-d8da-0fe8a344329c"
      },
      "outputs": [
        {
          "output_type": "stream",
          "name": "stdout",
          "text": [
            "st f n bn dí\n"
          ]
        }
      ],
      "source": [
        "assert remove_vowels(\"hola\") == \"hl\"\n",
        "answer_1  = remove_vowels(\"este fue un buen día\")\n",
        "print(answer_1)"
      ]
    },
    {
      "cell_type": "code",
      "execution_count": null,
      "id": "cfeea74a",
      "metadata": {
        "id": "cfeea74a"
      },
      "outputs": [],
      "source": [
        "def sum_list_of_floats(a: list, b:list) -> list:\n",
        "    return list(map(sum, zip(a,b)))\n"
      ]
    },
    {
      "cell_type": "code",
      "source": [
        "a = [1,2,3]\n",
        "b = [1,2,3]  \n",
        "\n",
        "sum_list_of_floats(a,b)"
      ],
      "metadata": {
        "colab": {
          "base_uri": "https://localhost:8080/"
        },
        "id": "h1p6D4ZMQVut",
        "outputId": "24a95fab-7da6-475f-fafd-90f34725ec68"
      },
      "id": "h1p6D4ZMQVut",
      "execution_count": null,
      "outputs": [
        {
          "output_type": "execute_result",
          "data": {
            "text/plain": [
              "[2, 4, 6]"
            ]
          },
          "metadata": {},
          "execution_count": 8
        }
      ]
    },
    {
      "cell_type": "code",
      "execution_count": null,
      "id": "d8628207",
      "metadata": {
        "colab": {
          "base_uri": "https://localhost:8080/"
        },
        "id": "d8628207",
        "outputId": "1ccfb172-3752-4e7f-ccb7-8146b430a4ad"
      },
      "outputs": [
        {
          "output_type": "stream",
          "name": "stdout",
          "text": [
            "[1, -1]\n"
          ]
        }
      ],
      "source": [
        "assert np.allclose(\n",
        "    sum_list_of_floats(\n",
        "        [1, 2, 3], [4, 5, -2.3]),\n",
        "    [5, 7, 0.7]\n",
        ")\n",
        "answer_2 = sum_list_of_floats([0, 0], [1, -1])\n",
        "print(answer_2)"
      ]
    },
    {
      "cell_type": "code",
      "execution_count": null,
      "id": "29cd595c",
      "metadata": {
        "colab": {
          "base_uri": "https://localhost:8080/"
        },
        "id": "29cd595c",
        "outputId": "ce03ca2a-0718-4ed7-87b8-8a01123431ee"
      },
      "outputs": [
        {
          "output_type": "stream",
          "name": "stdout",
          "text": [
            "|                    Task Name                     |       Status       |\n",
            "|--------------------------------------------------|--------------------|\n",
            "|--------------------------------------------------|--------------------|\n",
            "|                  remove_vowels                   |     Incorrect      |\n",
            "|--------------------------------------------------|--------------------|\n",
            "|                    sum_floats                    |      Correct       |\n",
            "|--------------------------------------------------|--------------------|\n"
          ]
        }
      ],
      "source": [
        "\n",
        "proposed_solution = {\n",
        "'attempt': {\n",
        "    'course_name': COURSE_NAME,\n",
        "    'exercise_name': EXERCISE_NAME,\n",
        "    'username': STUDENT_NAME,\n",
        "},\n",
        "'task_attempts': [\n",
        "         {\n",
        "             \"name\": \"remove_vowels\",\n",
        "             \"answer\": str(answer_1),\n",
        "         },\n",
        "                  {\n",
        "             \"name\": \"sum_floats\",\n",
        "             \"answer\": str(answer_2),\n",
        "         }\n",
        "]\n",
        "\n",
        "}\n",
        "check_solution(proposed_solution)\n",
        "    "
      ]
    }
  ],
  "metadata": {
    "colab": {
      "provenance": [],
      "name": "introduction-to-python-lucia-canales.ipynb",
      "collapsed_sections": [],
      "include_colab_link": true
    },
    "language_info": {
      "name": "python"
    },
    "kernelspec": {
      "name": "python3",
      "display_name": "Python 3"
    },
    "gpuClass": "standard"
  },
  "nbformat": 4,
  "nbformat_minor": 5
}